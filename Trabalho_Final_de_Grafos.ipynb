{
  "nbformat": 4,
  "nbformat_minor": 0,
  "metadata": {
    "colab": {
      "provenance": [],
      "include_colab_link": true
    },
    "kernelspec": {
      "name": "python3",
      "display_name": "Python 3"
    },
    "language_info": {
      "name": "python"
    }
  },
  "cells": [
    {
      "cell_type": "markdown",
      "metadata": {
        "id": "view-in-github",
        "colab_type": "text"
      },
      "source": [
        "<a href=\"https://colab.research.google.com/github/CarlosEduardo254/Trabalho_Final_Grafos/blob/main/Trabalho_Final_de_Grafos.ipynb\" target=\"_parent\"><img src=\"https://colab.research.google.com/assets/colab-badge.svg\" alt=\"Open In Colab\"/></a>"
      ]
    },
    {
      "cell_type": "code",
      "execution_count": 1,
      "metadata": {
        "id": "kfLhl_eEUR8L"
      },
      "outputs": [],
      "source": [
        "import sys\n",
        "import networkx as nx"
      ]
    },
    {
      "cell_type": "code",
      "source": [
        "# Leitura do arquivo txt e conversão da matriz de adjacências\n",
        "def ler_matriz_do_arquivo(nome_arquivo):\n",
        "    matriz_adj = []\n",
        "    with open(nome_arquivo, 'r') as f: # Abre o arquivo em modo leitura\n",
        "        for linha in f:\n",
        "            if not linha.strip(): continue #Ignora linhas em branco\n",
        "            numeros_str = linha.strip()[1:-1] # Vai fazer a mesma coisa da linha de cima, mas com a diferença que o [1:-1] remove os colchetes '[' e ']' deixando só uma lista de números\n",
        "            lista_de_numeros_str = numeros_str.split(',')  # Obtenção dos números diovidindo a string pela vírgula\n",
        "            linha_float = [float(n) for n in lista_de_numeros_str] # COnversão de string para float\n",
        "            matriz_adj.append(linha_float) #\n",
        "    return matriz_adj, len(matriz_adj)"
      ],
      "metadata": {
        "id": "tIllDlTpjkN9"
      },
      "execution_count": 2,
      "outputs": []
    },
    {
      "cell_type": "code",
      "source": [
        "import heapq\n",
        "\n",
        "def calcular_arvoregm(matriz_adj, num_vertices):\n",
        "    # Usaremos o algoritmo de Prim com uma fila de prioridade (min-heap) para otimização\n",
        "    agm = {i: [] for i in range(num_vertices)}\n",
        "\n",
        "    # O Parente serve para armazenar o pai de cada vértice na árvore geradora mínima\n",
        "    parente = [None] * num_vertices\n",
        "\n",
        "    # O Custo_para_conectar serve para armazenar o custo mínimo para ligar o vértice atual a árvore geradora mínima\n",
        "    # E também, antes de adicionarmos uma nova aresta ao heap, checamos aqui se ela é realente\n",
        "    # melhor que a melhor opção que já temos para aquele vértice, evitando colocar caminhos piores no nosso heap\n",
        "    custo_para_conectar = [float('inf')] * num_vertices\n",
        "\n",
        "    # O Incluidos_agm serve para marcar os vértices já incluídos na árvore, impedir que ciclos aconteçam, pois não olhamos para vizinhos já incluidos\n",
        "    # E Também filtra entradas que já não nos servem mais que saem do heap\n",
        "    incluidos_agm = [False] * num_vertices\n",
        "\n",
        "    # Agora criamos uma fila de prioridade, ela vai armazenar tuplas no formato (custo, vertice) pro nosso heap ordenar pelo custo\n",
        "    pq = []\n",
        "\n",
        "    # Vamos começar pelo vértice 0\n",
        "    custo_para_conectar[0] = 0\n",
        "    # Como o vertice inicial não tem pai, vamos atribuir a ele o valor -1 (-1 em vez de 0 para deixar claro que o vertice 0 nunca vai ter um pai e também remove a ambiguidade de 0 ser pai de 0)\n",
        "    parente[0] = -1\n",
        "    # Adicionamos nosso ponto de partida ao heap, sendo (custo, vértice)\n",
        "    heapq.heappush(pq, (0, 0))\n",
        "\n",
        "    # O loop vai continuar executando enquanto houver itens na fila de prioridade.\n",
        "    while pq:\n",
        "        # Retiramos o vértice com o menor custo de conexão\n",
        "        # No caso, encontramos e removemos o item de menor valor da fila pq e retornamos esse item que foi removido.\n",
        "        custo, u = heapq.heappop(pq)\n",
        "\n",
        "        # Se o vertice u já foi incluído, então temos que o que retiramos do heap foi uma entrada que não tem mais valor pra gente, então ignoramos e passamos pro próximo\n",
        "        if incluidos_agm[u]:\n",
        "            continue\n",
        "\n",
        "        # Se ele não foi incluído, então agora vamos incluir oficialmente na nossa árvore geradora minima\n",
        "        incluidos_agm[u] = True\n",
        "\n",
        "        # Atualizamos o custo mínimo de conexão dos vizinhos de u\n",
        "        for v in range(num_vertices):\n",
        "            peso_aresta = matriz_adj[u][v]\n",
        "\n",
        "            # Se encontramos um caminho mais barato para um vértice v que ainda não está na nossa árvore geradora mínima\n",
        "            # atualizamos as informações de custo e pai e adicionamos essa opção mais barata no nosso heap\n",
        "            if not incluidos_agm[v] and peso_aresta > 0 and peso_aresta < custo_para_conectar[v]:\n",
        "                custo_para_conectar[v] = peso_aresta\n",
        "                parente[v] = u\n",
        "                heapq.heappush(pq, (peso_aresta, v))\n",
        "\n",
        "    # Construimos a lista de adjacências da árvore geradora mínima a partir de parente\n",
        "    for i in range(1, num_vertices):\n",
        "        pai = parente[i]\n",
        "        # Como o grafo é conexo, todo vértice vai ter um pai, menos a raiz.\n",
        "        if pai != -1:\n",
        "            filho = i\n",
        "            agm[pai].append(filho)\n",
        "            agm[filho].append(pai)\n",
        "\n",
        "    # --- Construção da Saída Formatada ---\n",
        "\n",
        "    # 1. Cria a lista de arestas no formato (u, v, {'weight': w})\n",
        "    arestas_formatadas = []\n",
        "    for filho in range(1, num_vertices):\n",
        "        pai = parente[filho]\n",
        "        if pai is not None and pai != -1:\n",
        "              peso = matriz_adj[pai][filho]\n",
        "              arestas_formatadas.append((pai, filho, {'weight': peso}))\n",
        "\n",
        "    # 2. Calcula o peso total\n",
        "    peso_total = sum(custo for custo in custo_para_conectar if custo != float('inf'))\n",
        "\n",
        "    # 3. Retorna a lista de arestas e o peso total\n",
        "    return arestas_formatadas, peso_total"
      ],
      "metadata": {
        "id": "KzYKmdydjk2R"
      },
      "execution_count": 3,
      "outputs": []
    },
    {
      "cell_type": "code",
      "source": [
        "def encontrar_vertices_grau_impar(arestas_agm, num_vertices):\n",
        "    grau = {i: 0 for i in range(num_vertices)} # Criamos um dicionário onde cada vértice começa com um grau 0\n",
        "    for u, v, _ in arestas_agm: # O código percorre cada aresta da AGM\n",
        "        grau[u] += 1 # Como a aresta conecta o vértice u, aumentamos a contagem de grau dele em 1.\n",
        "        grau[v] += 1 # A aresta também conecta o vértice v, então também aumentamos a contagem de grau dele em 1.\n",
        "\n",
        "    vertices_impares = [v for v, d in grau.items() if d % 2 != 0] # Pegamos os vértice impares contidos em grau\n",
        "    return vertices_impares"
      ],
      "metadata": {
        "id": "Pg4ptt-u1a1J"
      },
      "execution_count": 4,
      "outputs": []
    },
    {
      "cell_type": "code",
      "source": [
        "def encontrar_emparelhamento_minimo(matriz_adj, vertices_impares):\n",
        "  subgrafo = nx.Graph()\n",
        "  # Nesses dois loops vamos garantir que não exista pares de vértices repetidos (1, 1)\n",
        "  # e não criamos pares duplicados (1, 2) e (2, 1)\n",
        "  for i in range(len(vertices_impares)):\n",
        "    for j in range(i + 1, len(vertices_impares)):\n",
        "      u = vertices_impares[i]\n",
        "      v = vertices_impares[j]\n",
        "      peso = matriz_adj[u][v]\n",
        "      if peso > 0: # aqui evitamos loops de vértices e evitamos erros/bugs com arestas nulas\n",
        "        subgrafo.add_edge(u, v, weight=peso)\n",
        "  # Passamos o Grafo, no weight falamos para a função considerar o custo de cada aresta, para assim obtermos o custo mínimo\n",
        "  emparelhamento_minimo = nx.min_weight_matching(subgrafo, weight='weight')\n",
        "\n",
        "  # Formatação da saída para uma lista de arestas seguindo o padrão da AGM\n",
        "  arestas_emparelhamento = []\n",
        "  peso_total = 0\n",
        "  for u, v in emparelhamento_minimo:\n",
        "    peso = matriz_adj[u][v]\n",
        "    arestas_emparelhamento.append((u, v, {'weight': peso}))\n",
        "    peso_total += peso\n",
        "\n",
        "  return arestas_emparelhamento, peso_total\n"
      ],
      "metadata": {
        "id": "FxRnsOEZmyeC"
      },
      "execution_count": 5,
      "outputs": []
    },
    {
      "cell_type": "code",
      "source": [
        "def encontrar_ciclo_euleriano(multigrafo_arestas, num_vertices):\n",
        "    # Implementação do Algoritmo de Hierholzer\n",
        "    #Criando uma lista de adjacências para o multigrafo H\n",
        "    adjacencias_H = {i: [] for i in range(num_vertices)}\n",
        "    # O Peso é irrelevante para o algoritmo de Hierholzer, por isso o _\n",
        "    for u, v, _ in multigrafo_arestas:\n",
        "        adjacencias_H[u].append(v)\n",
        "        adjacencias_H[v].append(u)\n",
        "\n",
        "    # Escolhendo um ponto de partida e inicializando as estruturas\n",
        "    vertice_inicial = multigrafo_arestas[0][0]\n",
        "    pilha = [vertice_inicial]\n",
        "    circuito = []\n",
        "\n",
        "    # Inicio do loop principal do Hierholzer\n",
        "    while pilha:\n",
        "        # Em Python, -1 acessa o último elemento de uma lista. Em uma pilha, o último\n",
        "        # elemento é considerado o topo.\n",
        "        vertice_atual = pilha[-1]\n",
        "\n",
        "        # Se ainda há arestas para explorar a partir do vértice atual\n",
        "        if adjacencias_H[vertice_atual]:\n",
        "            vizinho = adjacencias_H[vertice_atual].pop() # Pega um vizinho\n",
        "            # Remove a aresta de mão dupla\n",
        "            adjacencias_H[vizinho].remove(vertice_atual)\n",
        "            pilha.append(vizinho) # Continua o passeio\n",
        "        else:\n",
        "            # Só executa quando o explorador está em `vertice_atual` e a lista de vizinhos\n",
        "            # está vazia. Significando que não há mais para onde ir a partir daqui.\n",
        "            # Retira esse vértice e o adiciona à lista do circuito final.\n",
        "            # Essencialmente, estamos registrando a rota final na ordem inversa em que a descobrimos.\n",
        "            # Adicionamos um vértice ao nosso mapa final somente APÓS termos explorado tudo a partir dele.\n",
        "            circuito.append(pilha.pop())\n",
        "\n",
        "    # O circuito é construído ao contrário, por conta da foirma como o algoritmo é construído\n",
        "    # A notação [::-1] serve para inverter a lista inteira\n",
        "    return circuito[::-1]"
      ],
      "metadata": {
        "id": "BN55Dgn4gySg"
      },
      "execution_count": 6,
      "outputs": []
    },
    {
      "cell_type": "code",
      "source": [
        "def fazer_atalho_e_calcular_custo(ciclo_euleriano, matriz_adj):\n",
        "    # Percorre o ciclo euleriano, cria atalhos pulando vértices já visitados\n",
        "    # e calcula o custo total do ciclo hamiltoniano resultante.\n",
        "\n",
        "    caminho_hamiltoniano = []\n",
        "    visitados = set()\n",
        "\n",
        "    # Criando o caminho hamiltoniano pulando vértices repetidos\n",
        "    for vertice in ciclo_euleriano:\n",
        "        if vertice not in visitados:\n",
        "            caminho_hamiltoniano.append(vertice)\n",
        "            visitados.add(vertice)\n",
        "\n",
        "    # Adicionando o primeiro vértice ao final, fechando assim o ciclo\n",
        "    caminho_hamiltoniano.append(caminho_hamiltoniano[0])\n",
        "\n",
        "    # Calculando o custo total\n",
        "    custo_total = 0\n",
        "    for i in range(len(caminho_hamiltoniano) - 1):\n",
        "        u = caminho_hamiltoniano[i]\n",
        "        v = caminho_hamiltoniano[i+1]\n",
        "        custo_total += matriz_adj[u][v]\n",
        "\n",
        "    return caminho_hamiltoniano, custo_total"
      ],
      "metadata": {
        "id": "Ii1iBUNShVcg"
      },
      "execution_count": 7,
      "outputs": []
    },
    {
      "cell_type": "code",
      "source": [
        "try:\n",
        "    # Ler a matriz do arquivo, o nome deve ser altera conforme o nome do arquivo\n",
        "    arquivo = 'si175.tsp.txt'\n",
        "    matriz, num_vertices = ler_matriz_do_arquivo(arquivo)\n",
        "\n",
        "    # Passo 1: Chamando a função de Prim\n",
        "    arestas_da_agm, peso_da_agm = calcular_arvoregm(matriz, num_vertices)\n",
        "    # Imprimir\n",
        "    print(\"----- Passo 1: Árvore Gerado Mínima -----\")\n",
        "    print(f\"Arestas da AGM: {arestas_da_agm}\")\n",
        "    print(f\"Peso da AGM: {peso_da_agm}\")\n",
        "    print()\n",
        "\n",
        "    # Passo 2: Identificando os vértices de grau ímpar\n",
        "    vertices_impares = encontrar_vertices_grau_impar(arestas_da_agm, num_vertices)\n",
        "    print(\"----- Passo 2: Identificando os vértices de grau ímpar -----\")\n",
        "    print(f\"Vértices de grau ímpar: {vertices_impares}\")\n",
        "    print()\n",
        "\n",
        "    # Passo 3: Emparelhamento de Custo mínimo\n",
        "    arestas_do_emparelhamento, peso_do_emparelhamento = encontrar_emparelhamento_minimo(matriz, vertices_impares)\n",
        "    print(\"----- Passo 3: Emparelhamento de Custo Mínimo -----\")\n",
        "    print(f\"Arestas do Emparelhamento: {arestas_do_emparelhamento}\")\n",
        "    print(f\"Peso do Emparelhamento: {peso_do_emparelhamento}\")\n",
        "    print()\n",
        "\n",
        "    # Passo 4: Unindo as arestas da AGM e do Emparelhamento\n",
        "    multigrafo_H_arestas = arestas_da_agm + arestas_do_emparelhamento\n",
        "    print(\"----- Passo 4: Unindo as arestas da AGM e do Emparelhamento -----\")\n",
        "    print(f\"Arestas em H: multigrafo_H_arestas\")\n",
        "    print(f\"Total de arestas em H: {len(multigrafo_H_arestas)}\")\n",
        "    print()\n",
        "\n",
        "     # Passo 5: Determinação de um ciclo euleriano em H\n",
        "    ciclo_e = encontrar_ciclo_euleriano(multigrafo_H_arestas, num_vertices)\n",
        "    print(\"----- Passo 5: Ciclo Euleriano -----\")\n",
        "    # print(\"Vértices no ciclo euleriano:\", ciclo_e) # Pode ser muito longo para exibir\n",
        "    print(f\"O ciclo euleriano passa por {len(ciclo_e)} vértices (com repetições).\")\n",
        "    print()\n",
        "\n",
        "    # Passo 6: Atalho (shortcutting) do ciclo euleriano\n",
        "    caminho_final, custo_final = fazer_atalho_e_calcular_custo(ciclo_e, matriz)\n",
        "    print(\"----- Passo 6: Solução Final (Ciclo Hamiltoniano) -----\")\n",
        "    print(\"Caminho Hamiltoniano Aproximado:\", caminho_final)\n",
        "    print(f\"\\nCusto Total da Solução: {custo_final}\")\n",
        "\n",
        "except FileNotFoundError:\n",
        "    print(f\"❌ Erro: Arquivo {arquivo} não encontrado.\")\n",
        "except Exception as e:\n",
        "    print(f\"❌ Ocorreu um erro: {e}\")\n"
      ],
      "metadata": {
        "colab": {
          "base_uri": "https://localhost:8080/"
        },
        "id": "tQHXKZd2uQw8",
        "outputId": "0d998566-d5d6-4906-e86f-0e4b1c262af7"
      },
      "execution_count": 11,
      "outputs": [
        {
          "output_type": "stream",
          "name": "stdout",
          "text": [
            "----- Passo 1: Árvore Gerado Mínima -----\n",
            "Arestas da AGM: [(0, 1, {'weight': 113.0}), (13, 2, {'weight': 162.0}), (24, 3, {'weight': 162.0}), (5, 4, {'weight': 113.0}), (6, 5, {'weight': 127.0}), (7, 6, {'weight': 113.0}), (8, 7, {'weight': 113.0}), (9, 8, {'weight': 127.0}), (0, 9, {'weight': 162.0}), (9, 10, {'weight': 127.0}), (10, 11, {'weight': 127.0}), (11, 12, {'weight': 127.0}), (12, 13, {'weight': 127.0}), (13, 14, {'weight': 127.0}), (14, 15, {'weight': 127.0}), (15, 16, {'weight': 127.0}), (16, 17, {'weight': 127.0}), (17, 18, {'weight': 127.0}), (18, 19, {'weight': 134.0}), (19, 20, {'weight': 113.0}), (20, 21, {'weight': 127.0}), (21, 22, {'weight': 127.0}), (62, 23, {'weight': 113.0}), (23, 24, {'weight': 127.0}), (24, 25, {'weight': 127.0}), (25, 26, {'weight': 127.0}), (26, 27, {'weight': 134.0}), (27, 28, {'weight': 127.0}), (28, 29, {'weight': 127.0}), (29, 30, {'weight': 113.0}), (118, 31, {'weight': 111.0}), (33, 32, {'weight': 121.0}), (8, 33, {'weight': 177.0}), (33, 34, {'weight': 121.0}), (34, 35, {'weight': 121.0}), (34, 36, {'weight': 113.0}), (96, 37, {'weight': 128.0}), (36, 38, {'weight': 113.0}), (38, 39, {'weight': 113.0}), (39, 40, {'weight': 81.0}), (39, 41, {'weight': 125.0}), (41, 42, {'weight': 102.0}), (42, 43, {'weight': 81.0}), (82, 44, {'weight': 92.0}), (44, 45, {'weight': 75.0}), (45, 46, {'weight': 104.0}), (46, 47, {'weight': 99.0}), (46, 48, {'weight': 125.0}), (48, 49, {'weight': 121.0}), (49, 50, {'weight': 70.0}), (49, 51, {'weight': 121.0}), (51, 52, {'weight': 121.0}), (51, 53, {'weight': 113.0}), (53, 54, {'weight': 121.0}), (54, 55, {'weight': 121.0}), (55, 56, {'weight': 121.0}), (55, 57, {'weight': 113.0}), (57, 58, {'weight': 121.0}), (57, 59, {'weight': 113.0}), (59, 60, {'weight': 121.0}), (60, 61, {'weight': 121.0}), (21, 62, {'weight': 113.0}), (61, 63, {'weight': 128.0}), (23, 64, {'weight': 70.0}), (63, 65, {'weight': 124.0}), (65, 66, {'weight': 121.0}), (65, 67, {'weight': 113.0}), (67, 68, {'weight': 125.0}), (68, 69, {'weight': 84.0}), (69, 70, {'weight': 113.0}), (70, 71, {'weight': 70.0}), (71, 72, {'weight': 107.0}), (72, 73, {'weight': 96.0}), (73, 74, {'weight': 87.0}), (74, 75, {'weight': 113.0}), (75, 76, {'weight': 113.0}), (78, 77, {'weight': 139.0}), (37, 78, {'weight': 138.0}), (37, 79, {'weight': 112.0}), (37, 80, {'weight': 112.0}), (41, 81, {'weight': 70.0}), (43, 82, {'weight': 92.0}), (45, 83, {'weight': 112.0}), (100, 84, {'weight': 128.0}), (86, 85, {'weight': 128.0}), (53, 86, {'weight': 118.0}), (86, 87, {'weight': 139.0}), (89, 88, {'weight': 128.0}), (104, 89, {'weight': 128.0}), (105, 90, {'weight': 128.0}), (105, 91, {'weight': 128.0}), (91, 92, {'weight': 128.0}), (92, 93, {'weight': 128.0}), (93, 94, {'weight': 128.0}), (79, 95, {'weight': 165.0}), (41, 96, {'weight': 128.0}), (80, 97, {'weight': 128.0}), (84, 98, {'weight': 128.0}), (47, 99, {'weight': 127.0}), (99, 100, {'weight': 128.0}), (85, 101, {'weight': 128.0}), (88, 102, {'weight': 128.0}), (88, 103, {'weight': 99.0}), (105, 104, {'weight': 128.0}), (68, 105, {'weight': 127.0}), (92, 106, {'weight': 70.0}), (93, 107, {'weight': 70.0}), (94, 108, {'weight': 70.0}), (154, 109, {'weight': 160.0}), (149, 110, {'weight': 154.0}), (167, 111, {'weight': 129.0}), (146, 112, {'weight': 160.0}), (112, 113, {'weight': 113.0}), (157, 114, {'weight': 113.0}), (156, 115, {'weight': 120.0}), (154, 116, {'weight': 129.0}), (174, 117, {'weight': 120.0}), (30, 118, {'weight': 113.0}), (174, 119, {'weight': 177.0}), (132, 120, {'weight': 119.0}), (133, 121, {'weight': 113.0}), (121, 122, {'weight': 113.0}), (122, 123, {'weight': 113.0}), (123, 124, {'weight': 113.0}), (124, 125, {'weight': 113.0}), (125, 126, {'weight': 113.0}), (126, 127, {'weight': 113.0}), (127, 128, {'weight': 134.0}), (128, 129, {'weight': 113.0}), (129, 130, {'weight': 113.0}), (130, 131, {'weight': 134.0}), (131, 132, {'weight': 113.0}), (119, 133, {'weight': 113.0}), (142, 134, {'weight': 113.0}), (136, 135, {'weight': 113.0}), (137, 136, {'weight': 113.0}), (138, 137, {'weight': 113.0}), (141, 138, {'weight': 113.0}), (120, 139, {'weight': 113.0}), (134, 140, {'weight': 113.0}), (140, 141, {'weight': 113.0}), (143, 142, {'weight': 113.0}), (144, 143, {'weight': 113.0}), (145, 144, {'weight': 113.0}), (139, 145, {'weight': 149.0}), (84, 146, {'weight': 154.0}), (146, 147, {'weight': 113.0}), (149, 148, {'weight': 130.0}), (150, 149, {'weight': 130.0}), (174, 150, {'weight': 129.0}), (152, 151, {'weight': 126.0}), (153, 152, {'weight': 126.0}), (154, 153, {'weight': 126.0}), (160, 154, {'weight': 126.0}), (115, 155, {'weight': 71.0}), (114, 156, {'weight': 126.0}), (161, 157, {'weight': 129.0}), (113, 158, {'weight': 83.0}), (112, 159, {'weight': 126.0}), (155, 160, {'weight': 126.0}), (168, 161, {'weight': 126.0}), (151, 162, {'weight': 129.0}), (162, 163, {'weight': 126.0}), (116, 164, {'weight': 90.0}), (116, 165, {'weight': 107.0}), (165, 166, {'weight': 126.0}), (159, 167, {'weight': 129.0}), (169, 168, {'weight': 126.0}), (170, 169, {'weight': 126.0}), (167, 170, {'weight': 126.0}), (167, 171, {'weight': 126.0}), (171, 172, {'weight': 126.0}), (172, 173, {'weight': 126.0}), (162, 174, {'weight': 126.0})]\n",
            "Peso da AGM: 20762.0\n",
            "\n",
            "----- Passo 2: Identificando os vértices de grau ímpar -----\n",
            "Vértices de grau ímpar: [1, 2, 3, 4, 8, 9, 13, 21, 22, 23, 24, 31, 32, 33, 34, 35, 39, 40, 45, 46, 49, 50, 51, 52, 53, 55, 56, 57, 58, 64, 65, 66, 68, 76, 77, 81, 83, 84, 86, 87, 88, 90, 92, 93, 95, 97, 98, 101, 102, 103, 106, 107, 108, 109, 110, 111, 112, 116, 117, 135, 146, 147, 148, 149, 158, 162, 163, 164, 166, 173]\n",
            "\n",
            "----- Passo 3: Emparelhamento de Custo Mínimo -----\n",
            "Arestas do Emparelhamento: [(50, 49, {'weight': 70.0}), (88, 103, {'weight': 99.0}), (147, 146, {'weight': 113.0}), (51, 53, {'weight': 113.0}), (64, 23, {'weight': 70.0}), (86, 87, {'weight': 139.0}), (8, 9, {'weight': 127.0}), (13, 2, {'weight': 162.0}), (3, 31, {'weight': 185.0}), (52, 21, {'weight': 181.0}), (102, 101, {'weight': 139.0}), (56, 58, {'weight': 128.0}), (158, 112, {'weight': 126.0}), (32, 33, {'weight': 121.0}), (116, 164, {'weight': 90.0}), (148, 110, {'weight': 154.0}), (68, 90, {'weight': 139.0}), (106, 92, {'weight': 70.0}), (66, 65, {'weight': 121.0}), (111, 97, {'weight': 211.0}), (77, 95, {'weight': 166.0}), (107, 93, {'weight': 70.0}), (98, 84, {'weight': 128.0}), (46, 83, {'weight': 112.0}), (163, 162, {'weight': 126.0}), (149, 117, {'weight': 133.0}), (35, 34, {'weight': 121.0}), (45, 81, {'weight': 137.0}), (22, 24, {'weight': 134.0}), (39, 40, {'weight': 81.0}), (57, 55, {'weight': 113.0}), (173, 135, {'weight': 177.0}), (1, 4, {'weight': 201.0}), (108, 76, {'weight': 170.0}), (109, 166, {'weight': 187.0})]\n",
            "Peso do Emparelhamento: 4614.0\n",
            "\n",
            "----- Passo 4: Unindo as arestas da AGM e do Emparelhamento -----\n",
            "Arestas em H: multigrafo_H_arestas\n",
            "Total de arestas em H: 209\n",
            "\n",
            "----- Passo 5: Ciclo Euleriano -----\n",
            "O ciclo euleriano passa por 210 vértices (com repetições).\n",
            "\n",
            "----- Passo 6: Solução Final (Ciclo Hamiltoniano) -----\n",
            "Caminho Hamiltoniano Aproximado: [0, 9, 8, 10, 11, 12, 13, 2, 14, 15, 16, 17, 18, 19, 20, 21, 62, 23, 64, 24, 25, 26, 27, 28, 29, 30, 118, 31, 3, 22, 52, 51, 53, 86, 87, 85, 101, 102, 88, 103, 89, 104, 105, 68, 90, 91, 92, 106, 93, 107, 94, 108, 76, 75, 74, 73, 72, 71, 70, 69, 67, 65, 66, 63, 61, 60, 59, 57, 55, 58, 56, 54, 49, 50, 48, 46, 83, 45, 81, 41, 96, 37, 79, 95, 77, 78, 80, 97, 111, 167, 171, 172, 173, 135, 136, 137, 138, 141, 140, 134, 142, 143, 144, 145, 139, 120, 132, 131, 130, 129, 128, 127, 126, 125, 124, 123, 122, 121, 133, 119, 174, 150, 149, 148, 110, 117, 162, 163, 151, 152, 153, 154, 116, 164, 165, 166, 109, 160, 155, 115, 156, 114, 157, 161, 168, 169, 170, 159, 112, 158, 113, 146, 147, 84, 98, 100, 99, 47, 44, 82, 43, 42, 39, 40, 38, 36, 34, 35, 33, 32, 7, 6, 5, 4, 1, 0]\n",
            "\n",
            "Custo Total da Solução: 21966.0\n"
          ]
        }
      ]
    },
    {
      "cell_type": "code",
      "source": [],
      "metadata": {
        "id": "RbFfjcIjh4SL"
      },
      "execution_count": null,
      "outputs": []
    }
  ]
}